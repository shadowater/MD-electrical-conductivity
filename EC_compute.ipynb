{
 "cells": [
  {
   "cell_type": "markdown",
   "id": "cf8da8d9",
   "metadata": {},
   "source": [
    "从2.2开始每一小节均可单独完整运行（所需文件仓库均已提供）"
   ]
  },
  {
   "cell_type": "markdown",
   "id": "85b870c3",
   "metadata": {
    "heading_collapsed": true
   },
   "source": [
    "# 数据预处理"
   ]
  },
  {
   "cell_type": "markdown",
   "id": "7b3a787b",
   "metadata": {
    "hidden": true
   },
   "source": [
    "将轨迹转化为unwarped类型"
   ]
  },
  {
   "cell_type": "code",
   "execution_count": 23,
   "id": "4ce1d6c8",
   "metadata": {
    "hidden": true
   },
   "outputs": [],
   "source": [
    "import os\n",
    "import subprocess"
   ]
  },
  {
   "cell_type": "code",
   "execution_count": 21,
   "id": "062e5add",
   "metadata": {
    "hidden": true
   },
   "outputs": [],
   "source": [
    "def convtrj_unwraped(xtc_file):\n",
    "    result_xtc = xtc_file[:-4] + '_unwarpped.xtc'\n",
    "    cmd = \"gmx trjconv -f \" + xtc_file + ' -pbc nojump -o ' + result_xtc\n",
    "    subprocess.call(cmd, shell=True)    "
   ]
  },
  {
   "cell_type": "code",
   "execution_count": 40,
   "id": "2c288d8e",
   "metadata": {
    "collapsed": true,
    "hidden": true
   },
   "outputs": [
    {
     "name": "stderr",
     "output_type": "stream",
     "text": [
      "                     :-) GROMACS - gmx trjconv, 2020.6 (-:\n",
      "\n",
      "                            GROMACS is written by:\n",
      "     Emile Apol      Rossen Apostolov      Paul Bauer     Herman J.C. Berendsen\n",
      "    Par Bjelkmar      Christian Blau   Viacheslav Bolnykh     Kevin Boyd    \n",
      " Aldert van Buuren   Rudi van Drunen     Anton Feenstra       Alan Gray     \n",
      "  Gerrit Groenhof     Anca Hamuraru    Vincent Hindriksen  M. Eric Irrgang  \n",
      "  Aleksei Iupinov   Christoph Junghans     Joe Jordan     Dimitrios Karkoulis\n",
      "    Peter Kasson        Jiri Kraus      Carsten Kutzner      Per Larsson    \n",
      "  Justin A. Lemkul    Viveca Lindahl    Magnus Lundborg     Erik Marklund   \n",
      "    Pascal Merz     Pieter Meulenhoff    Teemu Murtola       Szilard Pall   \n",
      "    Sander Pronk      Roland Schulz      Michael Shirts    Alexey Shvetsov  \n",
      "   Alfons Sijbers     Peter Tieleman      Jon Vincent      Teemu Virolainen \n",
      " Christian Wennberg    Maarten Wolf      Artem Zhmurov   \n",
      "                           and the project leaders:\n",
      "        Mark Abraham, Berk Hess, Erik Lindahl, and David van der Spoel\n",
      "\n",
      "Copyright (c) 1991-2000, University of Groningen, The Netherlands.\n",
      "Copyright (c) 2001-2019, The GROMACS development team at\n",
      "Uppsala University, Stockholm University and\n",
      "the Royal Institute of Technology, Sweden.\n",
      "check out http://www.gromacs.org for more information.\n",
      "\n",
      "GROMACS is free software; you can redistribute it and/or modify it\n",
      "under the terms of the GNU Lesser General Public License\n",
      "as published by the Free Software Foundation; either version 2.1\n",
      "of the License, or (at your option) any later version.\n",
      "\n",
      "GROMACS:      gmx trjconv, version 2020.6\n",
      "Executable:   /opt/pub/softwares/GROMACS/2020.6-gpu/bin/gmx\n",
      "Data prefix:  /opt/pub/softwares/GROMACS/2020.6-gpu\n",
      "Working dir:  /home/gengzi/vrains/20230329_Borihum\n",
      "Command line:\n",
      "  gmx trjconv -f 3.5nm/npt2.xtc -pbc nojump -o 3.5nm/npt2_unwarpped.xtc\n",
      "\n",
      "Will write xtc: Compressed trajectory (portable xdr format): xtc\n",
      "Reading frame       0 time    0.000   \n",
      "Precision of 3.5nm/npt2.xtc is 0.001 (nm)\n",
      "Using output precision of 0.001 (nm)\n",
      "Last frame      50000 time 200000.000    ->  frame  50000 time 200000.000      \n",
      "\n",
      "\n",
      "GROMACS reminds you: \"Art For Arts Sake, Money For Gods Sake\" (10 CC)\n",
      "\n",
      "                     :-) GROMACS - gmx trjconv, 2020.6 (-:\n",
      "\n",
      "                            GROMACS is written by:\n",
      "     Emile Apol      Rossen Apostolov      Paul Bauer     Herman J.C. Berendsen\n",
      "    Par Bjelkmar      Christian Blau   Viacheslav Bolnykh     Kevin Boyd    \n",
      " Aldert van Buuren   Rudi van Drunen     Anton Feenstra       Alan Gray     \n",
      "  Gerrit Groenhof     Anca Hamuraru    Vincent Hindriksen  M. Eric Irrgang  \n",
      "  Aleksei Iupinov   Christoph Junghans     Joe Jordan     Dimitrios Karkoulis\n",
      "    Peter Kasson        Jiri Kraus      Carsten Kutzner      Per Larsson    \n",
      "  Justin A. Lemkul    Viveca Lindahl    Magnus Lundborg     Erik Marklund   \n",
      "    Pascal Merz     Pieter Meulenhoff    Teemu Murtola       Szilard Pall   \n",
      "    Sander Pronk      Roland Schulz      Michael Shirts    Alexey Shvetsov  \n",
      "   Alfons Sijbers     Peter Tieleman      Jon Vincent      Teemu Virolainen \n",
      " Christian Wennberg    Maarten Wolf      Artem Zhmurov   \n",
      "                           and the project leaders:\n",
      "        Mark Abraham, Berk Hess, Erik Lindahl, and David van der Spoel\n",
      "\n",
      "Copyright (c) 1991-2000, University of Groningen, The Netherlands.\n",
      "Copyright (c) 2001-2019, The GROMACS development team at\n",
      "Uppsala University, Stockholm University and\n",
      "the Royal Institute of Technology, Sweden.\n",
      "check out http://www.gromacs.org for more information.\n",
      "\n",
      "GROMACS is free software; you can redistribute it and/or modify it\n",
      "under the terms of the GNU Lesser General Public License\n",
      "as published by the Free Software Foundation; either version 2.1\n",
      "of the License, or (at your option) any later version.\n",
      "\n",
      "GROMACS:      gmx trjconv, version 2020.6\n",
      "Executable:   /opt/pub/softwares/GROMACS/2020.6-gpu/bin/gmx\n",
      "Data prefix:  /opt/pub/softwares/GROMACS/2020.6-gpu\n",
      "Working dir:  /home/gengzi/vrains/20230329_Borihum\n",
      "Command line:\n",
      "  gmx trjconv -f 3.5nm/npt1.xtc -pbc nojump -o 3.5nm/npt1_unwarpped.xtc\n",
      "\n",
      "Will write xtc: Compressed trajectory (portable xdr format): xtc\n",
      "Reading frame       0 time    0.000   \n",
      "Precision of 3.5nm/npt1.xtc is 0.001 (nm)\n",
      "Using output precision of 0.001 (nm)\n",
      "\n",
      "Back Off! I just backed up 3.5nm/npt1_unwarpped.xtc to 3.5nm/#npt1_unwarpped.xtc.1#\n",
      " ->  frame    230 time  920.000        ->  frame    200 time  800.000      \r"
     ]
    },
    {
     "name": "stdout",
     "output_type": "stream",
     "text": [
      "Note that major changes are planned in future for trjconv, to improve usability and utility.\n"
     ]
    },
    {
     "name": "stderr",
     "output_type": "stream",
     "text": [
      "Last frame      50000 time 200000.000    ->  frame  50000 time 200000.000      \n",
      "\n",
      "\n",
      "GROMACS reminds you: \"It's more useful when you know what you're doing.\" (Artem Zhmurov)\n",
      "\n"
     ]
    },
    {
     "name": "stdout",
     "output_type": "stream",
     "text": [
      "Note that major changes are planned in future for trjconv, to improve usability and utility.\n"
     ]
    },
    {
     "name": "stderr",
     "output_type": "stream",
     "text": [
      "                     :-) GROMACS - gmx trjconv, 2020.6 (-:\n",
      "\n",
      "                            GROMACS is written by:\n",
      "     Emile Apol      Rossen Apostolov      Paul Bauer     Herman J.C. Berendsen\n",
      "    Par Bjelkmar      Christian Blau   Viacheslav Bolnykh     Kevin Boyd    \n",
      " Aldert van Buuren   Rudi van Drunen     Anton Feenstra       Alan Gray     \n",
      "  Gerrit Groenhof     Anca Hamuraru    Vincent Hindriksen  M. Eric Irrgang  \n",
      "  Aleksei Iupinov   Christoph Junghans     Joe Jordan     Dimitrios Karkoulis\n",
      "    Peter Kasson        Jiri Kraus      Carsten Kutzner      Per Larsson    \n",
      "  Justin A. Lemkul    Viveca Lindahl    Magnus Lundborg     Erik Marklund   \n",
      "    Pascal Merz     Pieter Meulenhoff    Teemu Murtola       Szilard Pall   \n",
      "    Sander Pronk      Roland Schulz      Michael Shirts    Alexey Shvetsov  \n",
      "   Alfons Sijbers     Peter Tieleman      Jon Vincent      Teemu Virolainen \n",
      " Christian Wennberg    Maarten Wolf      Artem Zhmurov   \n",
      "                           and the project leaders:\n",
      "        Mark Abraham, Berk Hess, Erik Lindahl, and David van der Spoel\n",
      "\n",
      "Copyright (c) 1991-2000, University of Groningen, The Netherlands.\n",
      "Copyright (c) 2001-2019, The GROMACS development team at\n",
      "Uppsala University, Stockholm University and\n",
      "the Royal Institute of Technology, Sweden.\n",
      "check out http://www.gromacs.org for more information.\n",
      "\n",
      "GROMACS is free software; you can redistribute it and/or modify it\n",
      "under the terms of the GNU Lesser General Public License\n",
      "as published by the Free Software Foundation; either version 2.1\n",
      "of the License, or (at your option) any later version.\n",
      "\n",
      "GROMACS:      gmx trjconv, version 2020.6\n",
      "Executable:   /opt/pub/softwares/GROMACS/2020.6-gpu/bin/gmx\n",
      "Data prefix:  /opt/pub/softwares/GROMACS/2020.6-gpu\n",
      "Working dir:  /home/gengzi/vrains/20230329_Borihum\n",
      "Command line:\n",
      "  gmx trjconv -f 3.5nm/npt3.xtc -pbc nojump -o 3.5nm/npt3_unwarpped.xtc\n",
      "\n",
      "Will write xtc: Compressed trajectory (portable xdr format): xtc\n",
      "Reading frame       0 time    0.000   \n",
      "Precision of 3.5nm/npt3.xtc is 0.001 (nm)\n",
      "Using output precision of 0.001 (nm)\n",
      "Last frame      50000 time 200000.000    ->  frame  50000 time 200000.000      \n",
      "\n",
      "\n",
      "GROMACS reminds you: \"This is extremely unlikely.\" (Berk Hess)\n",
      "\n",
      "                     :-) GROMACS - gmx trjconv, 2020.6 (-:\n",
      "\n",
      "                            GROMACS is written by:\n",
      "     Emile Apol      Rossen Apostolov      Paul Bauer     Herman J.C. Berendsen\n",
      "    Par Bjelkmar      Christian Blau   Viacheslav Bolnykh     Kevin Boyd    \n",
      " Aldert van Buuren   Rudi van Drunen     Anton Feenstra       Alan Gray     \n",
      "  Gerrit Groenhof     Anca Hamuraru    Vincent Hindriksen  M. Eric Irrgang  \n",
      "  Aleksei Iupinov   Christoph Junghans     Joe Jordan     Dimitrios Karkoulis\n",
      "    Peter Kasson        Jiri Kraus      Carsten Kutzner      Per Larsson    \n",
      "  Justin A. Lemkul    Viveca Lindahl    Magnus Lundborg     Erik Marklund   \n",
      "    Pascal Merz     Pieter Meulenhoff    Teemu Murtola       Szilard Pall   \n",
      "    Sander Pronk      Roland Schulz      Michael Shirts    Alexey Shvetsov  \n",
      "   Alfons Sijbers     Peter Tieleman      Jon Vincent      Teemu Virolainen \n",
      " Christian Wennberg    Maarten Wolf      Artem Zhmurov   \n",
      "                           and the project leaders:\n",
      "        Mark Abraham, Berk Hess, Erik Lindahl, and David van der Spoel\n",
      "\n",
      "Copyright (c) 1991-2000, University of Groningen, The Netherlands.\n",
      "Copyright (c) 2001-2019, The GROMACS development team at\n",
      "Uppsala University, Stockholm University and\n",
      "the Royal Institute of Technology, Sweden.\n",
      "check out http://www.gromacs.org for more information.\n",
      "\n",
      "GROMACS is free software; you can redistribute it and/or modify it\n",
      "under the terms of the GNU Lesser General Public License\n",
      "as published by the Free Software Foundation; either version 2.1\n",
      "of the License, or (at your option) any later version.\n",
      "\n",
      "GROMACS:      gmx trjconv, version 2020.6\n",
      "Executable:   /opt/pub/softwares/GROMACS/2020.6-gpu/bin/gmx\n",
      "Data prefix:  /opt/pub/softwares/GROMACS/2020.6-gpu\n",
      "Working dir:  /home/gengzi/vrains/20230329_Borihum\n",
      "Command line:\n",
      "  gmx trjconv -f 3.5nm/npt4.xtc -pbc nojump -o 3.5nm/npt4_unwarpped.xtc\n",
      "\n",
      "Will write xtc: Compressed trajectory (portable xdr format): xtc\n",
      "Reading frame       0 time    0.000   \n",
      "Precision of 3.5nm/npt4.xtc is 0.001 (nm)\n",
      "Using output precision of 0.001 (nm)\n",
      "Reading frame     180 time  720.000    ->  frame    180 time  720.000      \r"
     ]
    },
    {
     "name": "stdout",
     "output_type": "stream",
     "text": [
      "Note that major changes are planned in future for trjconv, to improve usability and utility.\n"
     ]
    },
    {
     "name": "stderr",
     "output_type": "stream",
     "text": [
      "Last frame      50000 time 200000.000    ->  frame  50000 time 200000.000      \n",
      "\n",
      "\n",
      "GROMACS reminds you: \"I've Got Two Turntables and a Microphone\" (B. Hansen)\n",
      "\n",
      "                     :-) GROMACS - gmx trjconv, 2020.6 (-:\n",
      "\n",
      "                            GROMACS is written by:\n",
      "     Emile Apol      Rossen Apostolov      Paul Bauer     Herman J.C. Berendsen\n",
      "    Par Bjelkmar      Christian Blau   Viacheslav Bolnykh     Kevin Boyd    \n",
      " Aldert van Buuren   Rudi van Drunen     Anton Feenstra       Alan Gray     \n",
      "  Gerrit Groenhof     Anca Hamuraru    Vincent Hindriksen  M. Eric Irrgang  \n",
      "  Aleksei Iupinov   Christoph Junghans     Joe Jordan     Dimitrios Karkoulis\n",
      "    Peter Kasson        Jiri Kraus      Carsten Kutzner      Per Larsson    \n",
      "  Justin A. Lemkul    Viveca Lindahl    Magnus Lundborg     Erik Marklund   \n",
      "    Pascal Merz     Pieter Meulenhoff    Teemu Murtola       Szilard Pall   \n",
      "    Sander Pronk      Roland Schulz      Michael Shirts    Alexey Shvetsov  \n",
      "   Alfons Sijbers     Peter Tieleman      Jon Vincent      Teemu Virolainen \n",
      " Christian Wennberg    Maarten Wolf      Artem Zhmurov   \n",
      "                           and the project leaders:\n",
      "        Mark Abraham, Berk Hess, Erik Lindahl, and David van der Spoel\n",
      "\n",
      "Copyright (c) 1991-2000, University of Groningen, The Netherlands.\n",
      "Copyright (c) 2001-2019, The GROMACS development team at\n",
      "Uppsala University, Stockholm University and\n",
      "the Royal Institute of Technology, Sweden.\n",
      "check out http://www.gromacs.org for more information.\n",
      "\n",
      "GROMACS is free software; you can redistribute it and/or modify it\n",
      "under the terms of the GNU Lesser General Public License\n",
      "as published by the Free Software Foundation; either version 2.1\n",
      "of the License, or (at your option) any later version.\n",
      "\n",
      "GROMACS:      gmx trjconv, version 2020.6\n",
      "Executable:   /opt/pub/softwares/GROMACS/2020.6-gpu/bin/gmx\n",
      "Data prefix:  /opt/pub/softwares/GROMACS/2020.6-gpu\n",
      "Working dir:  /home/gengzi/vrains/20230329_Borihum\n",
      "Command line:\n",
      "  gmx trjconv -f 3.5nm/npt5.xtc -pbc nojump -o 3.5nm/npt5_unwarpped.xtc\n",
      "\n",
      "Will write xtc: Compressed trajectory (portable xdr format): xtc\n",
      "Reading frame       0 time    0.000   \n",
      "Precision of 3.5nm/npt5.xtc is 0.001 (nm)\n",
      "Using output precision of 0.001 (nm)\n",
      " ->  frame    220 time  880.000        ->  frame    200 time  800.000      \r"
     ]
    },
    {
     "name": "stdout",
     "output_type": "stream",
     "text": [
      "Note that major changes are planned in future for trjconv, to improve usability and utility.\n"
     ]
    },
    {
     "name": "stderr",
     "output_type": "stream",
     "text": [
      "Last frame      50000 time 200000.000    ->  frame  50000 time 200000.000      \n",
      "\n",
      "\n",
      "GROMACS reminds you: \"Push It Real Good\" (Salt 'n' Pepa)\n",
      "\n",
      "                     :-) GROMACS - gmx trjconv, 2020.6 (-:\n",
      "\n",
      "                            GROMACS is written by:\n",
      "     Emile Apol      Rossen Apostolov      Paul Bauer     Herman J.C. Berendsen\n",
      "    Par Bjelkmar      Christian Blau   Viacheslav Bolnykh     Kevin Boyd    \n",
      " Aldert van Buuren   Rudi van Drunen     Anton Feenstra       Alan Gray     \n",
      "  Gerrit Groenhof     Anca Hamuraru    Vincent Hindriksen  M. Eric Irrgang  \n",
      "  Aleksei Iupinov   Christoph Junghans     Joe Jordan     Dimitrios Karkoulis\n",
      "    Peter Kasson        Jiri Kraus      Carsten Kutzner      Per Larsson    \n",
      "  Justin A. Lemkul    Viveca Lindahl    Magnus Lundborg     Erik Marklund   \n",
      "    Pascal Merz     Pieter Meulenhoff    Teemu Murtola       Szilard Pall   \n",
      "    Sander Pronk      Roland Schulz      Michael Shirts    Alexey Shvetsov  \n",
      "   Alfons Sijbers     Peter Tieleman      Jon Vincent      Teemu Virolainen \n",
      " Christian Wennberg    Maarten Wolf      Artem Zhmurov   \n",
      "                           and the project leaders:\n",
      "        Mark Abraham, Berk Hess, Erik Lindahl, and David van der Spoel\n",
      "\n",
      "Copyright (c) 1991-2000, University of Groningen, The Netherlands.\n",
      "Copyright (c) 2001-2019, The GROMACS development team at\n",
      "Uppsala University, Stockholm University and\n",
      "the Royal Institute of Technology, Sweden.\n",
      "check out http://www.gromacs.org for more information.\n",
      "\n",
      "GROMACS is free software; you can redistribute it and/or modify it\n",
      "under the terms of the GNU Lesser General Public License\n",
      "as published by the Free Software Foundation; either version 2.1\n",
      "of the License, or (at your option) any later version.\n",
      "\n",
      "GROMACS:      gmx trjconv, version 2020.6\n",
      "Executable:   /opt/pub/softwares/GROMACS/2020.6-gpu/bin/gmx\n",
      "Data prefix:  /opt/pub/softwares/GROMACS/2020.6-gpu\n",
      "Working dir:  /home/gengzi/vrains/20230329_Borihum\n",
      "Command line:\n",
      "  gmx trjconv -f 3.5nm/npt6.xtc -pbc nojump -o 3.5nm/npt6_unwarpped.xtc\n",
      "\n",
      "Will write xtc: Compressed trajectory (portable xdr format): xtc\n",
      "Reading frame       0 time    0.000   \n",
      "Precision of 3.5nm/npt6.xtc is 0.001 (nm)\n",
      "Using output precision of 0.001 (nm)\n",
      " ->  frame    350 time 1400.000        ->  frame    300 time 1200.000      \r"
     ]
    },
    {
     "name": "stdout",
     "output_type": "stream",
     "text": [
      "Note that major changes are planned in future for trjconv, to improve usability and utility.\n"
     ]
    },
    {
     "name": "stderr",
     "output_type": "stream",
     "text": [
      "Last frame      50000 time 200000.000    ->  frame  50000 time 200000.000      \n",
      "\n",
      "\n",
      "GROMACS reminds you: \"No great discovery was ever made without a bold guess.\" (Marie Curie)\n",
      "\n",
      "                     :-) GROMACS - gmx trjconv, 2020.6 (-:\n",
      "\n",
      "                            GROMACS is written by:\n",
      "     Emile Apol      Rossen Apostolov      Paul Bauer     Herman J.C. Berendsen\n",
      "    Par Bjelkmar      Christian Blau   Viacheslav Bolnykh     Kevin Boyd    \n",
      " Aldert van Buuren   Rudi van Drunen     Anton Feenstra       Alan Gray     \n",
      "  Gerrit Groenhof     Anca Hamuraru    Vincent Hindriksen  M. Eric Irrgang  \n",
      "  Aleksei Iupinov   Christoph Junghans     Joe Jordan     Dimitrios Karkoulis\n",
      "    Peter Kasson        Jiri Kraus      Carsten Kutzner      Per Larsson    \n",
      "  Justin A. Lemkul    Viveca Lindahl    Magnus Lundborg     Erik Marklund   \n",
      "    Pascal Merz     Pieter Meulenhoff    Teemu Murtola       Szilard Pall   \n",
      "    Sander Pronk      Roland Schulz      Michael Shirts    Alexey Shvetsov  \n",
      "   Alfons Sijbers     Peter Tieleman      Jon Vincent      Teemu Virolainen \n",
      " Christian Wennberg    Maarten Wolf      Artem Zhmurov   \n",
      "                           and the project leaders:\n",
      "        Mark Abraham, Berk Hess, Erik Lindahl, and David van der Spoel\n",
      "\n",
      "Copyright (c) 1991-2000, University of Groningen, The Netherlands.\n",
      "Copyright (c) 2001-2019, The GROMACS development team at\n",
      "Uppsala University, Stockholm University and\n",
      "the Royal Institute of Technology, Sweden.\n",
      "check out http://www.gromacs.org for more information.\n",
      "\n",
      "GROMACS is free software; you can redistribute it and/or modify it\n",
      "under the terms of the GNU Lesser General Public License\n",
      "as published by the Free Software Foundation; either version 2.1\n",
      "of the License, or (at your option) any later version.\n",
      "\n",
      "GROMACS:      gmx trjconv, version 2020.6\n",
      "Executable:   /opt/pub/softwares/GROMACS/2020.6-gpu/bin/gmx\n",
      "Data prefix:  /opt/pub/softwares/GROMACS/2020.6-gpu\n",
      "Working dir:  /home/gengzi/vrains/20230329_Borihum\n",
      "Command line:\n",
      "  gmx trjconv -f 3.5nm/npt7.xtc -pbc nojump -o 3.5nm/npt7_unwarpped.xtc\n",
      "\n",
      "Will write xtc: Compressed trajectory (portable xdr format): xtc\n",
      "Reading frame       0 time    0.000   \n",
      "Precision of 3.5nm/npt7.xtc is 0.001 (nm)\n",
      "Using output precision of 0.001 (nm)\n",
      "Reading frame      20 time   80.000    ->  frame     20 time   80.000      \r"
     ]
    },
    {
     "name": "stdout",
     "output_type": "stream",
     "text": [
      "Note that major changes are planned in future for trjconv, to improve usability and utility.\n"
     ]
    },
    {
     "name": "stderr",
     "output_type": "stream",
     "text": [
      "Last frame      50000 time 200000.000    ->  frame  50000 time 200000.000      \n",
      "\n",
      "\n",
      "GROMACS reminds you: \"I think it would be a good idea.\" (Mahatma Gandhi, when asked what he thought of Western civilization)\n",
      "\n",
      "                     :-) GROMACS - gmx trjconv, 2020.6 (-:\n",
      "\n",
      "                            GROMACS is written by:\n",
      "     Emile Apol      Rossen Apostolov      Paul Bauer     Herman J.C. Berendsen\n",
      "    Par Bjelkmar      Christian Blau   Viacheslav Bolnykh     Kevin Boyd    \n",
      " Aldert van Buuren   Rudi van Drunen     Anton Feenstra       Alan Gray     \n",
      "  Gerrit Groenhof     Anca Hamuraru    Vincent Hindriksen  M. Eric Irrgang  \n",
      "  Aleksei Iupinov   Christoph Junghans     Joe Jordan     Dimitrios Karkoulis\n",
      "    Peter Kasson        Jiri Kraus      Carsten Kutzner      Per Larsson    \n",
      "  Justin A. Lemkul    Viveca Lindahl    Magnus Lundborg     Erik Marklund   \n",
      "    Pascal Merz     Pieter Meulenhoff    Teemu Murtola       Szilard Pall   \n",
      "    Sander Pronk      Roland Schulz      Michael Shirts    Alexey Shvetsov  \n",
      "   Alfons Sijbers     Peter Tieleman      Jon Vincent      Teemu Virolainen \n",
      " Christian Wennberg    Maarten Wolf      Artem Zhmurov   \n",
      "                           and the project leaders:\n",
      "        Mark Abraham, Berk Hess, Erik Lindahl, and David van der Spoel\n",
      "\n",
      "Copyright (c) 1991-2000, University of Groningen, The Netherlands.\n",
      "Copyright (c) 2001-2019, The GROMACS development team at\n",
      "Uppsala University, Stockholm University and\n",
      "the Royal Institute of Technology, Sweden.\n",
      "check out http://www.gromacs.org for more information.\n",
      "\n",
      "GROMACS is free software; you can redistribute it and/or modify it\n",
      "under the terms of the GNU Lesser General Public License\n",
      "as published by the Free Software Foundation; either version 2.1\n",
      "of the License, or (at your option) any later version.\n",
      "\n",
      "GROMACS:      gmx trjconv, version 2020.6\n",
      "Executable:   /opt/pub/softwares/GROMACS/2020.6-gpu/bin/gmx\n",
      "Data prefix:  /opt/pub/softwares/GROMACS/2020.6-gpu\n",
      "Working dir:  /home/gengzi/vrains/20230329_Borihum\n",
      "Command line:\n",
      "  gmx trjconv -f 3.5nm/npt8.xtc -pbc nojump -o 3.5nm/npt8_unwarpped.xtc\n",
      "\n",
      "Will write xtc: Compressed trajectory (portable xdr format): xtc\n",
      "Reading frame       0 time    0.000   \n",
      "Precision of 3.5nm/npt8.xtc is 0.001 (nm)\n",
      "Using output precision of 0.001 (nm)\n",
      "Reading frame      60 time  240.000    ->  frame     60 time  240.000      \r"
     ]
    },
    {
     "name": "stdout",
     "output_type": "stream",
     "text": [
      "Note that major changes are planned in future for trjconv, to improve usability and utility.\n"
     ]
    },
    {
     "name": "stderr",
     "output_type": "stream",
     "text": [
      "Last frame      50000 time 200000.000    ->  frame  50000 time 200000.000      \n",
      "\n",
      "\n",
      "GROMACS reminds you: \"I Am the Psychotherapist. Please, Describe Your Problems.\" (GNU Emacs)\n",
      "\n",
      "                     :-) GROMACS - gmx trjconv, 2020.6 (-:\n",
      "\n",
      "                            GROMACS is written by:\n",
      "     Emile Apol      Rossen Apostolov      Paul Bauer     Herman J.C. Berendsen\n",
      "    Par Bjelkmar      Christian Blau   Viacheslav Bolnykh     Kevin Boyd    \n",
      " Aldert van Buuren   Rudi van Drunen     Anton Feenstra       Alan Gray     \n",
      "  Gerrit Groenhof     Anca Hamuraru    Vincent Hindriksen  M. Eric Irrgang  \n",
      "  Aleksei Iupinov   Christoph Junghans     Joe Jordan     Dimitrios Karkoulis\n",
      "    Peter Kasson        Jiri Kraus      Carsten Kutzner      Per Larsson    \n",
      "  Justin A. Lemkul    Viveca Lindahl    Magnus Lundborg     Erik Marklund   \n",
      "    Pascal Merz     Pieter Meulenhoff    Teemu Murtola       Szilard Pall   \n",
      "    Sander Pronk      Roland Schulz      Michael Shirts    Alexey Shvetsov  \n",
      "   Alfons Sijbers     Peter Tieleman      Jon Vincent      Teemu Virolainen \n",
      " Christian Wennberg    Maarten Wolf      Artem Zhmurov   \n",
      "                           and the project leaders:\n",
      "        Mark Abraham, Berk Hess, Erik Lindahl, and David van der Spoel\n",
      "\n",
      "Copyright (c) 1991-2000, University of Groningen, The Netherlands.\n",
      "Copyright (c) 2001-2019, The GROMACS development team at\n",
      "Uppsala University, Stockholm University and\n",
      "the Royal Institute of Technology, Sweden.\n",
      "check out http://www.gromacs.org for more information.\n",
      "\n",
      "GROMACS is free software; you can redistribute it and/or modify it\n",
      "under the terms of the GNU Lesser General Public License\n",
      "as published by the Free Software Foundation; either version 2.1\n",
      "of the License, or (at your option) any later version.\n",
      "\n",
      "GROMACS:      gmx trjconv, version 2020.6\n",
      "Executable:   /opt/pub/softwares/GROMACS/2020.6-gpu/bin/gmx\n",
      "Data prefix:  /opt/pub/softwares/GROMACS/2020.6-gpu\n",
      "Working dir:  /home/gengzi/vrains/20230329_Borihum\n",
      "Command line:\n",
      "  gmx trjconv -f 4.4nm/npt1.xtc -pbc nojump -o 4.4nm/npt1_unwarpped.xtc\n",
      "\n",
      "Will write xtc: Compressed trajectory (portable xdr format): xtc\n",
      "Reading frame       0 time    0.000   \n",
      "Precision of 4.4nm/npt1.xtc is 0.001 (nm)\n",
      "Using output precision of 0.001 (nm)\n",
      "Reading frame     150 time  600.000    ->  frame    150 time  600.000      \r"
     ]
    },
    {
     "name": "stdout",
     "output_type": "stream",
     "text": [
      "Note that major changes are planned in future for trjconv, to improve usability and utility.\n"
     ]
    },
    {
     "name": "stderr",
     "output_type": "stream",
     "text": [
      "Last frame      50000 time 200000.000    ->  frame  50000 time 200000.000      \n",
      "\n",
      "\n",
      "GROMACS reminds you: \"I Smell Smoke From a Gun Named Extinction\" (Pixies)\n",
      "\n",
      "                     :-) GROMACS - gmx trjconv, 2020.6 (-:\n",
      "\n",
      "                            GROMACS is written by:\n",
      "     Emile Apol      Rossen Apostolov      Paul Bauer     Herman J.C. Berendsen\n",
      "    Par Bjelkmar      Christian Blau   Viacheslav Bolnykh     Kevin Boyd    \n",
      " Aldert van Buuren   Rudi van Drunen     Anton Feenstra       Alan Gray     \n",
      "  Gerrit Groenhof     Anca Hamuraru    Vincent Hindriksen  M. Eric Irrgang  \n",
      "  Aleksei Iupinov   Christoph Junghans     Joe Jordan     Dimitrios Karkoulis\n",
      "    Peter Kasson        Jiri Kraus      Carsten Kutzner      Per Larsson    \n",
      "  Justin A. Lemkul    Viveca Lindahl    Magnus Lundborg     Erik Marklund   \n",
      "    Pascal Merz     Pieter Meulenhoff    Teemu Murtola       Szilard Pall   \n",
      "    Sander Pronk      Roland Schulz      Michael Shirts    Alexey Shvetsov  \n",
      "   Alfons Sijbers     Peter Tieleman      Jon Vincent      Teemu Virolainen \n",
      " Christian Wennberg    Maarten Wolf      Artem Zhmurov   \n",
      "                           and the project leaders:\n",
      "        Mark Abraham, Berk Hess, Erik Lindahl, and David van der Spoel\n",
      "\n",
      "Copyright (c) 1991-2000, University of Groningen, The Netherlands.\n",
      "Copyright (c) 2001-2019, The GROMACS development team at\n",
      "Uppsala University, Stockholm University and\n",
      "the Royal Institute of Technology, Sweden.\n",
      "check out http://www.gromacs.org for more information.\n",
      "\n",
      "GROMACS is free software; you can redistribute it and/or modify it\n",
      "under the terms of the GNU Lesser General Public License\n",
      "as published by the Free Software Foundation; either version 2.1\n",
      "of the License, or (at your option) any later version.\n",
      "\n",
      "GROMACS:      gmx trjconv, version 2020.6\n",
      "Executable:   /opt/pub/softwares/GROMACS/2020.6-gpu/bin/gmx\n",
      "Data prefix:  /opt/pub/softwares/GROMACS/2020.6-gpu\n",
      "Working dir:  /home/gengzi/vrains/20230329_Borihum\n",
      "Command line:\n",
      "  gmx trjconv -f 4.4nm/npt2.xtc -pbc nojump -o 4.4nm/npt2_unwarpped.xtc\n",
      "\n",
      "Will write xtc: Compressed trajectory (portable xdr format): xtc\n",
      "Reading frame       0 time    0.000   \n",
      "Precision of 4.4nm/npt2.xtc is 0.001 (nm)\n",
      "Using output precision of 0.001 (nm)\n",
      "Reading frame     150 time  600.000    ->  frame    150 time  600.000      \r"
     ]
    },
    {
     "name": "stdout",
     "output_type": "stream",
     "text": [
      "Note that major changes are planned in future for trjconv, to improve usability and utility.\n"
     ]
    },
    {
     "name": "stderr",
     "output_type": "stream",
     "text": [
      "Last frame      50000 time 200000.000    ->  frame  50000 time 200000.000      \n",
      "\n",
      "\n",
      "GROMACS reminds you: \"Developing the AI requires the work of a data scientist, and most of them understand neither data nor science.\" (Scott LeGrand)\n",
      "\n",
      "                     :-) GROMACS - gmx trjconv, 2020.6 (-:\n",
      "\n",
      "                            GROMACS is written by:\n",
      "     Emile Apol      Rossen Apostolov      Paul Bauer     Herman J.C. Berendsen\n",
      "    Par Bjelkmar      Christian Blau   Viacheslav Bolnykh     Kevin Boyd    \n",
      " Aldert van Buuren   Rudi van Drunen     Anton Feenstra       Alan Gray     \n",
      "  Gerrit Groenhof     Anca Hamuraru    Vincent Hindriksen  M. Eric Irrgang  \n",
      "  Aleksei Iupinov   Christoph Junghans     Joe Jordan     Dimitrios Karkoulis\n",
      "    Peter Kasson        Jiri Kraus      Carsten Kutzner      Per Larsson    \n",
      "  Justin A. Lemkul    Viveca Lindahl    Magnus Lundborg     Erik Marklund   \n",
      "    Pascal Merz     Pieter Meulenhoff    Teemu Murtola       Szilard Pall   \n",
      "    Sander Pronk      Roland Schulz      Michael Shirts    Alexey Shvetsov  \n",
      "   Alfons Sijbers     Peter Tieleman      Jon Vincent      Teemu Virolainen \n",
      " Christian Wennberg    Maarten Wolf      Artem Zhmurov   \n",
      "                           and the project leaders:\n",
      "        Mark Abraham, Berk Hess, Erik Lindahl, and David van der Spoel\n",
      "\n",
      "Copyright (c) 1991-2000, University of Groningen, The Netherlands.\n",
      "Copyright (c) 2001-2019, The GROMACS development team at\n",
      "Uppsala University, Stockholm University and\n",
      "the Royal Institute of Technology, Sweden.\n",
      "check out http://www.gromacs.org for more information.\n",
      "\n",
      "GROMACS is free software; you can redistribute it and/or modify it\n",
      "under the terms of the GNU Lesser General Public License\n",
      "as published by the Free Software Foundation; either version 2.1\n",
      "of the License, or (at your option) any later version.\n",
      "\n",
      "GROMACS:      gmx trjconv, version 2020.6\n",
      "Executable:   /opt/pub/softwares/GROMACS/2020.6-gpu/bin/gmx\n",
      "Data prefix:  /opt/pub/softwares/GROMACS/2020.6-gpu\n",
      "Working dir:  /home/gengzi/vrains/20230329_Borihum\n",
      "Command line:\n",
      "  gmx trjconv -f 4.4nm/npt3.xtc -pbc nojump -o 4.4nm/npt3_unwarpped.xtc\n",
      "\n",
      "Will write xtc: Compressed trajectory (portable xdr format): xtc\n",
      "Reading frame       0 time    0.000   \n",
      "Precision of 4.4nm/npt3.xtc is 0.001 (nm)\n",
      "Using output precision of 0.001 (nm)\n",
      "Reading frame      13 time   52.000    ->  frame     10 time   40.000      "
     ]
    },
    {
     "name": "stdout",
     "output_type": "stream",
     "text": [
      "Note that major changes are planned in future for trjconv, to improve usability and utility.\n"
     ]
    },
    {
     "name": "stderr",
     "output_type": "stream",
     "text": [
      "Last frame      50000 time 200000.000    ->  frame  50000 time 200000.000      \n",
      "\n",
      "\n",
      "GROMACS reminds you: \"The future always gets twisted and turned\" (Lisa o Piu)\n",
      "\n",
      "                     :-) GROMACS - gmx trjconv, 2020.6 (-:\n",
      "\n",
      "                            GROMACS is written by:\n",
      "     Emile Apol      Rossen Apostolov      Paul Bauer     Herman J.C. Berendsen\n",
      "    Par Bjelkmar      Christian Blau   Viacheslav Bolnykh     Kevin Boyd    \n",
      " Aldert van Buuren   Rudi van Drunen     Anton Feenstra       Alan Gray     \n",
      "  Gerrit Groenhof     Anca Hamuraru    Vincent Hindriksen  M. Eric Irrgang  \n",
      "  Aleksei Iupinov   Christoph Junghans     Joe Jordan     Dimitrios Karkoulis\n",
      "    Peter Kasson        Jiri Kraus      Carsten Kutzner      Per Larsson    \n",
      "  Justin A. Lemkul    Viveca Lindahl    Magnus Lundborg     Erik Marklund   \n",
      "    Pascal Merz     Pieter Meulenhoff    Teemu Murtola       Szilard Pall   \n",
      "    Sander Pronk      Roland Schulz      Michael Shirts    Alexey Shvetsov  \n",
      "   Alfons Sijbers     Peter Tieleman      Jon Vincent      Teemu Virolainen \n",
      " Christian Wennberg    Maarten Wolf      Artem Zhmurov   \n",
      "                           and the project leaders:\n",
      "        Mark Abraham, Berk Hess, Erik Lindahl, and David van der Spoel\n",
      "\n",
      "Copyright (c) 1991-2000, University of Groningen, The Netherlands.\n",
      "Copyright (c) 2001-2019, The GROMACS development team at\n",
      "Uppsala University, Stockholm University and\n",
      "the Royal Institute of Technology, Sweden.\n",
      "check out http://www.gromacs.org for more information.\n",
      "\n",
      "GROMACS is free software; you can redistribute it and/or modify it\n",
      "under the terms of the GNU Lesser General Public License\n",
      "as published by the Free Software Foundation; either version 2.1\n",
      "of the License, or (at your option) any later version.\n",
      "\n",
      "GROMACS:      gmx trjconv, version 2020.6\n",
      "Executable:   /opt/pub/softwares/GROMACS/2020.6-gpu/bin/gmx\n",
      "Data prefix:  /opt/pub/softwares/GROMACS/2020.6-gpu\n",
      "Working dir:  /home/gengzi/vrains/20230329_Borihum\n",
      "Command line:\n",
      "  gmx trjconv -f 4.4nm/npt4.xtc -pbc nojump -o 4.4nm/npt4_unwarpped.xtc\n",
      "\n",
      "Will write xtc: Compressed trajectory (portable xdr format): xtc\n",
      "Reading frame       0 time    0.000   \n",
      "Precision of 4.4nm/npt4.xtc is 0.001 (nm)\n",
      "Using output precision of 0.001 (nm)\n",
      "Reading frame      90 time  360.000    ->  frame     90 time  360.000      \r"
     ]
    },
    {
     "name": "stdout",
     "output_type": "stream",
     "text": [
      "Note that major changes are planned in future for trjconv, to improve usability and utility.\n"
     ]
    },
    {
     "name": "stderr",
     "output_type": "stream",
     "text": [
      "Last frame      50000 time 200000.000    ->  frame  50000 time 200000.000      \n",
      "\n",
      "\n",
      "GROMACS reminds you: \"You Try to Run the Universe\" (Tricky)\n",
      "\n",
      "                     :-) GROMACS - gmx trjconv, 2020.6 (-:\n",
      "\n",
      "                            GROMACS is written by:\n",
      "     Emile Apol      Rossen Apostolov      Paul Bauer     Herman J.C. Berendsen\n",
      "    Par Bjelkmar      Christian Blau   Viacheslav Bolnykh     Kevin Boyd    \n",
      " Aldert van Buuren   Rudi van Drunen     Anton Feenstra       Alan Gray     \n",
      "  Gerrit Groenhof     Anca Hamuraru    Vincent Hindriksen  M. Eric Irrgang  \n",
      "  Aleksei Iupinov   Christoph Junghans     Joe Jordan     Dimitrios Karkoulis\n",
      "    Peter Kasson        Jiri Kraus      Carsten Kutzner      Per Larsson    \n",
      "  Justin A. Lemkul    Viveca Lindahl    Magnus Lundborg     Erik Marklund   \n",
      "    Pascal Merz     Pieter Meulenhoff    Teemu Murtola       Szilard Pall   \n",
      "    Sander Pronk      Roland Schulz      Michael Shirts    Alexey Shvetsov  \n",
      "   Alfons Sijbers     Peter Tieleman      Jon Vincent      Teemu Virolainen \n",
      " Christian Wennberg    Maarten Wolf      Artem Zhmurov   \n",
      "                           and the project leaders:\n",
      "        Mark Abraham, Berk Hess, Erik Lindahl, and David van der Spoel\n",
      "\n",
      "Copyright (c) 1991-2000, University of Groningen, The Netherlands.\n",
      "Copyright (c) 2001-2019, The GROMACS development team at\n",
      "Uppsala University, Stockholm University and\n",
      "the Royal Institute of Technology, Sweden.\n",
      "check out http://www.gromacs.org for more information.\n",
      "\n",
      "GROMACS is free software; you can redistribute it and/or modify it\n",
      "under the terms of the GNU Lesser General Public License\n",
      "as published by the Free Software Foundation; either version 2.1\n",
      "of the License, or (at your option) any later version.\n",
      "\n",
      "GROMACS:      gmx trjconv, version 2020.6\n",
      "Executable:   /opt/pub/softwares/GROMACS/2020.6-gpu/bin/gmx\n",
      "Data prefix:  /opt/pub/softwares/GROMACS/2020.6-gpu\n",
      "Working dir:  /home/gengzi/vrains/20230329_Borihum\n",
      "Command line:\n",
      "  gmx trjconv -f 5.6nm/npt1.xtc -pbc nojump -o 5.6nm/npt1_unwarpped.xtc\n",
      "\n",
      "Will write xtc: Compressed trajectory (portable xdr format): xtc\n",
      "Reading frame       0 time    0.000   \n",
      "Precision of 5.6nm/npt1.xtc is 0.001 (nm)\n",
      "Using output precision of 0.001 (nm)\n",
      "Reading frame      11 time   44.000    ->  frame     10 time   40.000      "
     ]
    },
    {
     "name": "stdout",
     "output_type": "stream",
     "text": [
      "Note that major changes are planned in future for trjconv, to improve usability and utility.\n"
     ]
    },
    {
     "name": "stderr",
     "output_type": "stream",
     "text": [
      "Last frame      50000 time 200000.000    ->  frame  50000 time 200000.000      \n",
      "\n",
      "\n",
      "GROMACS reminds you: \"Chance favors the prepared mind.\" (Louis Pasteur)\n",
      "\n",
      "                     :-) GROMACS - gmx trjconv, 2020.6 (-:\n",
      "\n",
      "                            GROMACS is written by:\n",
      "     Emile Apol      Rossen Apostolov      Paul Bauer     Herman J.C. Berendsen\n",
      "    Par Bjelkmar      Christian Blau   Viacheslav Bolnykh     Kevin Boyd    \n",
      " Aldert van Buuren   Rudi van Drunen     Anton Feenstra       Alan Gray     \n",
      "  Gerrit Groenhof     Anca Hamuraru    Vincent Hindriksen  M. Eric Irrgang  \n",
      "  Aleksei Iupinov   Christoph Junghans     Joe Jordan     Dimitrios Karkoulis\n",
      "    Peter Kasson        Jiri Kraus      Carsten Kutzner      Per Larsson    \n",
      "  Justin A. Lemkul    Viveca Lindahl    Magnus Lundborg     Erik Marklund   \n",
      "    Pascal Merz     Pieter Meulenhoff    Teemu Murtola       Szilard Pall   \n",
      "    Sander Pronk      Roland Schulz      Michael Shirts    Alexey Shvetsov  \n",
      "   Alfons Sijbers     Peter Tieleman      Jon Vincent      Teemu Virolainen \n",
      " Christian Wennberg    Maarten Wolf      Artem Zhmurov   \n",
      "                           and the project leaders:\n",
      "        Mark Abraham, Berk Hess, Erik Lindahl, and David van der Spoel\n",
      "\n",
      "Copyright (c) 1991-2000, University of Groningen, The Netherlands.\n",
      "Copyright (c) 2001-2019, The GROMACS development team at\n",
      "Uppsala University, Stockholm University and\n",
      "the Royal Institute of Technology, Sweden.\n",
      "check out http://www.gromacs.org for more information.\n",
      "\n",
      "GROMACS is free software; you can redistribute it and/or modify it\n",
      "under the terms of the GNU Lesser General Public License\n",
      "as published by the Free Software Foundation; either version 2.1\n",
      "of the License, or (at your option) any later version.\n",
      "\n",
      "GROMACS:      gmx trjconv, version 2020.6\n",
      "Executable:   /opt/pub/softwares/GROMACS/2020.6-gpu/bin/gmx\n",
      "Data prefix:  /opt/pub/softwares/GROMACS/2020.6-gpu\n",
      "Working dir:  /home/gengzi/vrains/20230329_Borihum\n",
      "Command line:\n",
      "  gmx trjconv -f 5.6nm/npt2.xtc -pbc nojump -o 5.6nm/npt2_unwarpped.xtc\n",
      "\n",
      "Will write xtc: Compressed trajectory (portable xdr format): xtc\n",
      "Reading frame       0 time    0.000   \n",
      "Precision of 5.6nm/npt2.xtc is 0.001 (nm)\n",
      "Using output precision of 0.001 (nm)\n",
      "Reading frame     110 time  440.000    ->  frame    110 time  440.000      \r"
     ]
    },
    {
     "name": "stdout",
     "output_type": "stream",
     "text": [
      "Note that major changes are planned in future for trjconv, to improve usability and utility.\n"
     ]
    },
    {
     "name": "stderr",
     "output_type": "stream",
     "text": [
      "Last frame      50000 time 200000.000    ->  frame  50000 time 200000.000      \n",
      "\n",
      "\n",
      "GROMACS reminds you: \"Or (horrors!) use Berendsen!\" (Justin Lemkul)\n",
      "\n",
      "                     :-) GROMACS - gmx trjconv, 2020.6 (-:\n",
      "\n",
      "                            GROMACS is written by:\n",
      "     Emile Apol      Rossen Apostolov      Paul Bauer     Herman J.C. Berendsen\n",
      "    Par Bjelkmar      Christian Blau   Viacheslav Bolnykh     Kevin Boyd    \n",
      " Aldert van Buuren   Rudi van Drunen     Anton Feenstra       Alan Gray     \n",
      "  Gerrit Groenhof     Anca Hamuraru    Vincent Hindriksen  M. Eric Irrgang  \n",
      "  Aleksei Iupinov   Christoph Junghans     Joe Jordan     Dimitrios Karkoulis\n",
      "    Peter Kasson        Jiri Kraus      Carsten Kutzner      Per Larsson    \n",
      "  Justin A. Lemkul    Viveca Lindahl    Magnus Lundborg     Erik Marklund   \n",
      "    Pascal Merz     Pieter Meulenhoff    Teemu Murtola       Szilard Pall   \n",
      "    Sander Pronk      Roland Schulz      Michael Shirts    Alexey Shvetsov  \n",
      "   Alfons Sijbers     Peter Tieleman      Jon Vincent      Teemu Virolainen \n",
      " Christian Wennberg    Maarten Wolf      Artem Zhmurov   \n",
      "                           and the project leaders:\n",
      "        Mark Abraham, Berk Hess, Erik Lindahl, and David van der Spoel\n",
      "\n",
      "Copyright (c) 1991-2000, University of Groningen, The Netherlands.\n",
      "Copyright (c) 2001-2019, The GROMACS development team at\n",
      "Uppsala University, Stockholm University and\n",
      "the Royal Institute of Technology, Sweden.\n",
      "check out http://www.gromacs.org for more information.\n",
      "\n",
      "GROMACS is free software; you can redistribute it and/or modify it\n",
      "under the terms of the GNU Lesser General Public License\n",
      "as published by the Free Software Foundation; either version 2.1\n",
      "of the License, or (at your option) any later version.\n",
      "\n",
      "GROMACS:      gmx trjconv, version 2020.6\n",
      "Executable:   /opt/pub/softwares/GROMACS/2020.6-gpu/bin/gmx\n",
      "Data prefix:  /opt/pub/softwares/GROMACS/2020.6-gpu\n",
      "Working dir:  /home/gengzi/vrains/20230329_Borihum\n",
      "Command line:\n",
      "  gmx trjconv -f 5.6nm/npt3.xtc -pbc nojump -o 5.6nm/npt3_unwarpped.xtc\n",
      "\n",
      "Will write xtc: Compressed trajectory (portable xdr format): xtc\n",
      "Reading frame       0 time    0.000   \n",
      "Precision of 5.6nm/npt3.xtc is 0.001 (nm)\n",
      "Using output precision of 0.001 (nm)\n",
      "Reading frame      80 time  320.000    ->  frame     80 time  320.000      \r"
     ]
    },
    {
     "name": "stdout",
     "output_type": "stream",
     "text": [
      "Note that major changes are planned in future for trjconv, to improve usability and utility.\n"
     ]
    },
    {
     "name": "stderr",
     "output_type": "stream",
     "text": [
      "Last frame      50000 time 200000.000    ->  frame  50000 time 200000.000      \n",
      "\n",
      "\n",
      "GROMACS reminds you: \"Install our Free Energy Patents app! There is energy all around us; and it's free! Free energy is everywhere, and all around you, just waiting to be extracted! Over 100+ free energy patents!\" (Mind and Miracle Productions on Twitter, spamming a FEP thread)\n",
      "\n",
      "                     :-) GROMACS - gmx trjconv, 2020.6 (-:\n",
      "\n",
      "                            GROMACS is written by:\n",
      "     Emile Apol      Rossen Apostolov      Paul Bauer     Herman J.C. Berendsen\n",
      "    Par Bjelkmar      Christian Blau   Viacheslav Bolnykh     Kevin Boyd    \n",
      " Aldert van Buuren   Rudi van Drunen     Anton Feenstra       Alan Gray     \n",
      "  Gerrit Groenhof     Anca Hamuraru    Vincent Hindriksen  M. Eric Irrgang  \n",
      "  Aleksei Iupinov   Christoph Junghans     Joe Jordan     Dimitrios Karkoulis\n",
      "    Peter Kasson        Jiri Kraus      Carsten Kutzner      Per Larsson    \n",
      "  Justin A. Lemkul    Viveca Lindahl    Magnus Lundborg     Erik Marklund   \n",
      "    Pascal Merz     Pieter Meulenhoff    Teemu Murtola       Szilard Pall   \n",
      "    Sander Pronk      Roland Schulz      Michael Shirts    Alexey Shvetsov  \n",
      "   Alfons Sijbers     Peter Tieleman      Jon Vincent      Teemu Virolainen \n",
      " Christian Wennberg    Maarten Wolf      Artem Zhmurov   \n",
      "                           and the project leaders:\n",
      "        Mark Abraham, Berk Hess, Erik Lindahl, and David van der Spoel\n",
      "\n",
      "Copyright (c) 1991-2000, University of Groningen, The Netherlands.\n",
      "Copyright (c) 2001-2019, The GROMACS development team at\n",
      "Uppsala University, Stockholm University and\n",
      "the Royal Institute of Technology, Sweden.\n",
      "check out http://www.gromacs.org for more information.\n",
      "\n",
      "GROMACS is free software; you can redistribute it and/or modify it\n",
      "under the terms of the GNU Lesser General Public License\n",
      "as published by the Free Software Foundation; either version 2.1\n",
      "of the License, or (at your option) any later version.\n",
      "\n",
      "GROMACS:      gmx trjconv, version 2020.6\n",
      "Executable:   /opt/pub/softwares/GROMACS/2020.6-gpu/bin/gmx\n",
      "Data prefix:  /opt/pub/softwares/GROMACS/2020.6-gpu\n",
      "Working dir:  /home/gengzi/vrains/20230329_Borihum\n",
      "Command line:\n",
      "  gmx trjconv -f 5.6nm/npt4.xtc -pbc nojump -o 5.6nm/npt4_unwarpped.xtc\n",
      "\n",
      "Will write xtc: Compressed trajectory (portable xdr format): xtc\n",
      "Reading frame       0 time    0.000   \n",
      "Precision of 5.6nm/npt4.xtc is 0.001 (nm)\n",
      "Using output precision of 0.001 (nm)\n",
      "Reading frame      30 time  120.000    ->  frame     30 time  120.000      \r"
     ]
    },
    {
     "name": "stdout",
     "output_type": "stream",
     "text": [
      "Note that major changes are planned in future for trjconv, to improve usability and utility.\n"
     ]
    },
    {
     "name": "stderr",
     "output_type": "stream",
     "text": [
      " ->  frame  49970 time 199880.000        ->  frame  49000 time 196000.000      \r"
     ]
    },
    {
     "name": "stdout",
     "output_type": "stream",
     "text": [
      "Note that major changes are planned in future for trjconv, to improve usability and utility.\n"
     ]
    },
    {
     "name": "stderr",
     "output_type": "stream",
     "text": [
      " ->  frame  49980 time 199920.000      \r",
      " ->  frame  49990 time 199960.000      \r",
      "\r",
      "Reading frame   50000 time 200000.000    ->  frame  50000 time 200000.000      \r",
      "\r",
      "Last frame      50000 time 200000.000   \n",
      "\n",
      "\n",
      "GROMACS reminds you: \"Research ! A mere excuse for idleness; it has never achieved, and will never achieve any results of the slightest value.\" (Benjamin Jowett, British theologian, 1817-93)\n",
      "\n"
     ]
    }
   ],
   "source": [
    "files_dirs = ['3.5nm/','4.4nm/','5.6nm/']\n",
    "for directory in files_dirs:\n",
    "    files = os.listdir(directory)\n",
    "    npt_xtc = [directory+i for i in files if (i.endswith('.xtc') and 'unwarpped' not in i)]\n",
    "    for xtc in  npt_xtc:\n",
    "        convtrj_unwraped(xtc)"
   ]
  },
  {
   "cell_type": "markdown",
   "id": "fa311ec4",
   "metadata": {
    "heading_collapsed": true
   },
   "source": [
    "# 计算并保存电导率数据"
   ]
  },
  {
   "cell_type": "markdown",
   "id": "f7712bdf",
   "metadata": {
    "heading_collapsed": true,
    "hidden": true
   },
   "source": [
    "## 计算MSD"
   ]
  },
  {
   "cell_type": "code",
   "execution_count": 18,
   "id": "6f80405e",
   "metadata": {
    "hidden": true
   },
   "outputs": [],
   "source": [
    "import os\n",
    "import numpy as np\n",
    "import MDAnalysis as mda\n",
    "import MDAnalysis.analysis.msd as msd"
   ]
  },
  {
   "cell_type": "code",
   "execution_count": 25,
   "id": "94fd179a",
   "metadata": {
    "hidden": true
   },
   "outputs": [],
   "source": [
    "def MSD(tpr_file,xtc_file,atom_select,begin = 0,end = -1):\n",
    "        \n",
    "    u = mda.Universe(tpr_file,xtc_file)\n",
    "    MSD = msd.EinsteinMSD(u, select=atom_select, msd_type='xyz', fft=True)\n",
    "    MSD.run(start=begin,stop=end)\n",
    "    msd_result =  MSD.results.timeseries\n",
    "    \n",
    "    return msd_result"
   ]
  },
  {
   "cell_type": "code",
   "execution_count": 30,
   "id": "da3e187f",
   "metadata": {
    "hidden": true
   },
   "outputs": [],
   "source": [
    "files_dirs = ['3.5nm/','4.4nm/','5.6nm/']\n",
    "for directory in files_dirs:\n",
    "    \n",
    "    files = os.listdir(directory)\n",
    "    if 'results' not in files:\n",
    "        os.mkdir(directory+'results')\n",
    "    \n",
    "    npt_tpr = [i for i in files if '.tpr' in i][0]\n",
    "    npt_xtc = [i for i in files if ( i.endswith('.xtc') and 'unwarpped' in i)]\n",
    "    \n",
    "    for xtc in  npt_xtc:\n",
    "        for atom_name in ['name POT','name CLA']:\n",
    "            MSD_result = MSD(directory+npt_tpr,directory+xtc,atom_name,25000,50000)\n",
    "            np.save(directory+'results/'+xtc[0:-4]+atom_name[-3:]+'_MSD',MSD_result)"
   ]
  },
  {
   "cell_type": "markdown",
   "id": "e640e59f",
   "metadata": {
    "heading_collapsed": true,
    "hidden": true
   },
   "source": [
    "## 计算电导率"
   ]
  },
  {
   "cell_type": "code",
   "execution_count": 1,
   "id": "bd626352",
   "metadata": {
    "hidden": true
   },
   "outputs": [],
   "source": [
    "import os\n",
    "import numpy as np\n",
    "import pandas as pd\n",
    "from scipy.stats import linregress"
   ]
  },
  {
   "cell_type": "code",
   "execution_count": 3,
   "id": "3d03bd18",
   "metadata": {
    "code_folding": [],
    "hidden": true
   },
   "outputs": [],
   "source": [
    "def electrical_conductivity(MSD,timestep = 0.004 ,charge = 1,temperature = 300):\n",
    "    linear_model = linregress(np.arange(len(MSD))*timestep,MSD)\n",
    "    slope = linear_model.slope\n",
    "    error = linear_model.rvalue\n",
    "    \n",
    "    diffusion_coefficient = slope * 1/6\n",
    "    FF_RT = (9.6485*10**4)**2/8.314/temperature# F Fareday's constant R gas constant T absolute temperature\n",
    "    \n",
    "    conductivity = (charge**2)*(diffusion_coefficient/100*10**(-9))*FF_RT*1000\n",
    "    \n",
    "    return conductivity"
   ]
  },
  {
   "cell_type": "code",
   "execution_count": 4,
   "id": "8a4b701b",
   "metadata": {
    "hidden": true
   },
   "outputs": [],
   "source": [
    "files_dirs = ['3.5nm/','4.4nm/','5.6nm/']\n",
    "EC_all = []\n",
    "for directory in files_dirs:\n",
    "    EC = []\n",
    "    files = os.listdir(directory+'results/')\n",
    "    files.sort()\n",
    "    \n",
    "    for npy in  files:\n",
    "        MSD = np.load(directory+'results/'+npy)\n",
    "        Ec = electrical_conductivity(MSD)\n",
    "        EC.append(Ec)\n",
    "    EC_all.append(EC)"
   ]
  },
  {
   "cell_type": "code",
   "execution_count": 5,
   "id": "296a9ab1",
   "metadata": {
    "hidden": true
   },
   "outputs": [],
   "source": [
    "EC = pd.DataFrame(EC_all).T\n",
    "EC.columns = ['3.5nm','4.4nm','5.6nm']\n",
    "EC.to_csv('results.csv',index = False)"
   ]
  },
  {
   "cell_type": "markdown",
   "id": "0761d973",
   "metadata": {
    "heading_collapsed": true
   },
   "source": [
    "# 绘图和分析"
   ]
  },
  {
   "cell_type": "markdown",
   "id": "c719326f",
   "metadata": {
    "heading_collapsed": true,
    "hidden": true
   },
   "source": [
    "## MSD"
   ]
  },
  {
   "cell_type": "code",
   "execution_count": 6,
   "id": "a70c67db",
   "metadata": {
    "hidden": true
   },
   "outputs": [],
   "source": [
    "import os\n",
    "import numpy as np\n",
    "import pandas as pd\n",
    "import matplotlib.pyplot as plt"
   ]
  },
  {
   "cell_type": "code",
   "execution_count": 7,
   "id": "7681339e",
   "metadata": {
    "code_folding": [
     0,
     18
    ],
    "hidden": true
   },
   "outputs": [],
   "source": [
    "def plot_ax():\n",
    "\n",
    "    fig, ax = plt.subplots(constrained_layout=True, figsize=(12 / 2.54, 9 / 2.54))\n",
    "    ax.set_xlim(0, 100)\n",
    "    ax.set_ylim(0, 2200)\n",
    "    ax.tick_params(width=1)\n",
    "    \n",
    "    ax.set_xlabel('$\\mathrm{time\\ (ns)}$')\n",
    "    ax.set_ylabel('$\\mathrm{MSD\\ (nm)}^2$')\n",
    "    ax.set_xticks(np.arange(0,101,20))\n",
    "    ax.set_xticklabels(ax.get_xticks())\n",
    "    ax.spines['left'].set_linewidth(1)\n",
    "    ax.spines['right'].set_linewidth(1)\n",
    "    ax.spines['bottom'].set_linewidth(1)\n",
    "    ax.spines['top'].set_linewidth(1)\n",
    "    \n",
    "    return ax\n",
    "\n",
    "def plot_MSD(box):\n",
    "    ax =  plot_ax()\n",
    "    files = os.listdir(box+'results/')\n",
    "    files.sort()\n",
    "    for npy in files:\n",
    "        data = np.load(box+'results/'+npy)/100\n",
    "        ls = '-' if 'POT' in npy else '--'\n",
    "        ax.plot(np.linspace(0,100,len(data)),data,ls = ls,c = color,lw =1)    \n",
    "    ax.legend(['$\\mathrm{Cl}^-$','$\\mathrm{K}^+$'])\n",
    "    \n",
    "    return ax"
   ]
  },
  {
   "cell_type": "code",
   "execution_count": 8,
   "id": "ccec268a",
   "metadata": {
    "hidden": true
   },
   "outputs": [
    {
     "data": {
      "image/png": "[encoded data removed]",
      "text/plain": [
       "<Figure size 472.441x354.331 with 1 Axes>"
      ]
     },
     "metadata": {},
     "output_type": "display_data"
    },
    {
     "data": {
      "image/png": "[encoded data removed]",
      "text/plain": [
       "<Figure size 472.441x354.331 with 1 Axes>"
      ]
     },
     "metadata": {},
     "output_type": "display_data"
    },
    {
     "data": {
      "image/png": "[encoded data removed]",
      "text/plain": [
       "<Figure size 472.441x354.331 with 1 Axes>"
      ]
     },
     "metadata": {},
     "output_type": "display_data"
    }
   ],
   "source": [
    "box = ['3.5','4.4','5.6']\n",
    "colors = ['#4077d7','#56ab91','#c23b2e']\n",
    "for i in box:\n",
    "    color =colors[box.index(i)]\n",
    "    ax = plot_MSD(i+'nm/')\n",
    "    ax.set_title('box: '+i+' nm')\n",
    "    plt.savefig('figures/'+i+'MSD.svg')"
   ]
  },
  {
   "cell_type": "markdown",
   "id": "de52d80b",
   "metadata": {
    "hidden": true
   },
   "source": [
    "## 电导率"
   ]
  },
  {
   "cell_type": "code",
   "execution_count": 9,
   "id": "da3a3567",
   "metadata": {
    "hidden": true
   },
   "outputs": [],
   "source": [
    "import os\n",
    "import numpy as np\n",
    "import pandas as pd\n",
    "import matplotlib.pyplot as plt"
   ]
  },
  {
   "cell_type": "code",
   "execution_count": 13,
   "id": "59785aa5",
   "metadata": {
    "code_folding": [],
    "hidden": true
   },
   "outputs": [],
   "source": [
    "def plot_ax():\n",
    "\n",
    "    fig, ax = plt.subplots(constrained_layout=True, figsize=(12 / 2.54, 9 / 2.54))\n",
    "    ax.set_xlim(0,3)\n",
    "    ax.set_ylim(0,25)\n",
    "    ax.tick_params(width=1)\n",
    "    \n",
    "    ax.set_xlabel('$\\mathrm{box\\ size}$')\n",
    "    ax.set_ylabel('$\\mathrm{EC\\ (S/m)}$')\n",
    "    ax.spines['left'].set_linewidth(1)\n",
    "    ax.spines['right'].set_linewidth(1)\n",
    "    ax.spines['bottom'].set_linewidth(1)\n",
    "    ax.spines['top'].set_linewidth(1)\n",
    "    \n",
    "    return ax"
   ]
  },
  {
   "cell_type": "code",
   "execution_count": 14,
   "id": "d9251486",
   "metadata": {
    "hidden": true
   },
   "outputs": [],
   "source": [
    "# 创建原始DataFrame\n",
    "data = pd.read_csv('results.csv')\n",
    "# 将两个相邻的行相加，并生成新的DataFrame\n",
    "EC = data.groupby(data.index // 2).sum()"
   ]
  },
  {
   "cell_type": "code",
   "execution_count": 15,
   "id": "18cd4da8",
   "metadata": {
    "hidden": true
   },
   "outputs": [
    {
     "data": {
      "image/png": "[encoded data removed]",
      "text/plain": [
       "<Figure size 472.441x354.331 with 1 Axes>"
      ]
     },
     "metadata": {},
     "output_type": "display_data"
    }
   ],
   "source": [
    "ax = plot_ax()\n",
    "box = ['3.5nm','4.4nm','5.6nm']\n",
    "colors = ['#4077d7','#56ab91','#c23b2e']\n",
    "for i in range(len(box)):\n",
    "    if i == 0:\n",
    "        data = EC[box[i]]\n",
    "    else:\n",
    "        data = EC[box[i]][0:4]\n",
    "    mean = data.mean()\n",
    "    std  = data.std(ddof=1)\n",
    "    error_params=dict(elinewidth=1,capthick = 1,capsize=5) \n",
    "    \n",
    "    ax.bar([0.5+i],mean,yerr=std,error_kw=error_params,width = 0.2,color=colors[i],linewidth = 1,edgecolor='k')\n",
    "    \n",
    "    x = i+np.random.normal(0.5,0.05,len(data))\n",
    "    ax.scatter(x,data,s = 15,marker='v',c = colors[i],edgecolors='k',linewidths = 0.5,zorder = 2)\n",
    "\n",
    "ax.set_xticks([0.5,1.5,2.5], ['3.5 nm','4.4 nm','5.6 nm'])\n",
    "ax.set_title('Conductivity of different systems')\n",
    "\n",
    "plt.savefig('figures/conductivity.svg')"
   ]
  },
  {
   "cell_type": "markdown",
   "id": "10cc8641",
   "metadata": {
    "hidden": true
   },
   "source": [
    "## 体系大小的影响"
   ]
  },
  {
   "cell_type": "code",
   "execution_count": 20,
   "id": "baa0eb17",
   "metadata": {
    "hidden": true
   },
   "outputs": [],
   "source": [
    "import pandas as pd\n",
    "from scipy import stats"
   ]
  },
  {
   "cell_type": "code",
   "execution_count": 21,
   "id": "e02b4a28",
   "metadata": {
    "hidden": true
   },
   "outputs": [
    {
     "name": "stdout",
     "output_type": "stream",
     "text": [
      "Ttest_indResult(statistic=0.7956750145110496, pvalue=0.4587093165965584) \n",
      " Ttest_indResult(statistic=-0.0960472936070558, pvalue=0.9256513491366649) \n",
      " Ttest_indResult(statistic=-0.9831616216985831, pvalue=0.39102623920436014)\n"
     ]
    }
   ],
   "source": [
    "data = pd.read_csv('results.csv')\n",
    "# 将两个相邻的行相加，并生成新的DataFrame\n",
    "EC = data.groupby(data.index // 2).sum()\n",
    "\n",
    "onetwo   = stats.ttest_ind(EC['3.5nm'],EC['4.4nm'][0:4],equal_var=False,trim=0)\n",
    "onethree = stats.ttest_ind(EC['3.5nm'],EC['5.6nm'][0:4],equal_var=False,trim=0)\n",
    "twothree = stats.ttest_ind(EC['4.4nm'][0:4],EC['5.6nm'][0:4],equal_var=False,trim=0)\n",
    "\n",
    "print(onetwo,'\\n',onethree,'\\n',twothree)"
   ]
  },
  {
   "cell_type": "code",
   "execution_count": null,
   "id": "c7f4c8f0",
   "metadata": {
    "hidden": true
   },
   "outputs": [],
   "source": []
  }
 ],
 "metadata": {
  "hide_input": false,
  "kernelspec": {
   "display_name": "Python 3 (ipykernel)",
   "language": "python",
   "name": "python3"
  },
  "language_info": {
   "codemirror_mode": {
    "name": "ipython",
    "version": 3
   },
   "file_extension": ".py",
   "mimetype": "text/x-python",
   "name": "python",
   "nbconvert_exporter": "python",
   "pygments_lexer": "ipython3",
   "version": "3.9.16"
  },
  "toc": {
   "base_numbering": 1,
   "nav_menu": {},
   "number_sections": true,
   "sideBar": true,
   "skip_h1_title": false,
   "title_cell": "Table of Contents",
   "title_sidebar": "Contents",
   "toc_cell": false,
   "toc_position": {},
   "toc_section_display": true,
   "toc_window_display": false
  },
  "varInspector": {
   "cols": {
    "lenName": 16,
    "lenType": 16,
    "lenVar": 40
   },
   "kernels_config": {
    "python": {
     "delete_cmd_postfix": "",
     "delete_cmd_prefix": "del ",
     "library": "var_list.py",
     "varRefreshCmd": "print(var_dic_list())"
    },
    "r": {
     "delete_cmd_postfix": ") ",
     "delete_cmd_prefix": "rm(",
     "library": "var_list.r",
     "varRefreshCmd": "cat(var_dic_list()) "
    }
   },
   "types_to_exclude": [
    "module",
    "function",
    "builtin_function_or_method",
    "instance",
    "_Feature"
   ],
   "window_display": false
  }
 },
 "nbformat": 4,
 "nbformat_minor": 5
}
