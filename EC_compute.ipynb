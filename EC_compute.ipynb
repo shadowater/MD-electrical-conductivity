{
 "cells": [
  {
   "attachments": {},
   "cell_type": "markdown",
   "id": "cf8da8d9",
   "metadata": {},
   "source": [
    "从2.2开始每一小节均可单独完整运行（所需文件仓库均已提供）"
   ]
  },
  {
   "attachments": {},
   "cell_type": "markdown",
   "id": "85b870c3",
   "metadata": {
    "heading_collapsed": true
   },
   "source": [
    "# 数据预处理"
   ]
  },
  {
   "attachments": {},
   "cell_type": "markdown",
   "id": "7b3a787b",
   "metadata": {
    "hidden": true
   },
   "source": [
    "将轨迹转化为unwarped类型"
   ]
  },
  {
   "cell_type": "code",
   "execution_count": null,
   "id": "4ce1d6c8",
   "metadata": {
    "hidden": true
   },
   "outputs": [],
   "source": [
    "import os\n",
    "import subprocess\n",
    "import numpy as np"
   ]
  },
  {
   "cell_type": "code",
   "execution_count": null,
   "id": "062e5add",
   "metadata": {
    "hidden": true
   },
   "outputs": [],
   "source": [
    "def convtrj_unwraped(xtc_file):\n",
    "    result_xtc = xtc_file[:-4] + '_unwarpped.xtc'\n",
    "    cmd = \"gmx trjconv -f \" + xtc_file + ' -pbc nojump -o ' + result_xtc\n",
    "    subprocess.call(cmd, shell=True)    "
   ]
  },
  {
   "cell_type": "code",
   "execution_count": null,
   "id": "2c288d8e",
   "metadata": {
    "hidden": true
   },
   "outputs": [],
   "source": [
    "files_dirs = ['3.5nm/','4.4nm/','5.6nm/']\n",
    "for directory in files_dirs:\n",
    "    files = os.listdir(directory)\n",
    "    npt_xtc = [directory+i for i in files if (i.endswith('.xtc') and 'unwarpped' not in i)]\n",
    "    for xtc in  npt_xtc:\n",
    "        convtrj_unwraped(xtc)"
   ]
  },
  {
   "attachments": {},
   "cell_type": "markdown",
   "id": "fa311ec4",
   "metadata": {
    "heading_collapsed": true
   },
   "source": [
    "# 计算并保存电导率数据"
   ]
  },
  {
   "attachments": {},
   "cell_type": "markdown",
   "id": "f7712bdf",
   "metadata": {
    "heading_collapsed": true,
    "hidden": true
   },
   "source": [
    "## 计算MSD"
   ]
  },
  {
   "cell_type": "code",
   "execution_count": null,
   "id": "6f80405e",
   "metadata": {
    "hidden": true
   },
   "outputs": [],
   "source": [
    "import os\n",
    "import numpy as np\n",
    "import MDAnalysis as mda\n",
    "import MDAnalysis.analysis.msd as msd"
   ]
  },
  {
   "cell_type": "code",
   "execution_count": null,
   "id": "94fd179a",
   "metadata": {
    "hidden": true
   },
   "outputs": [],
   "source": [
    "def MSD(tpr_file,xtc_file,atom_select,begin = 0,end = -1):\n",
    "        \n",
    "    u = mda.Universe(tpr_file,xtc_file)\n",
    "    MSD = msd.EinsteinMSD(u, select=atom_select, msd_type='xyz', fft=True)\n",
    "    MSD.run(start=begin,stop=end)\n",
    "    msd_result =  MSD.results.timeseries\n",
    "    \n",
    "    return msd_result"
   ]
  },
  {
   "cell_type": "code",
   "execution_count": null,
   "id": "da3e187f",
   "metadata": {
    "hidden": true
   },
   "outputs": [],
   "source": [
    "files_dirs = ['3.5nm/','4.4nm/','5.6nm/']\n",
    "for directory in files_dirs:\n",
    "    \n",
    "    files = os.listdir(directory)\n",
    "    if 'results' not in files:\n",
    "        os.mkdir(directory+'results')\n",
    "    \n",
    "    npt_tpr = [i for i in files if '.tpr' in i][0]\n",
    "    npt_xtc = [i for i in files if ( i.endswith('.xtc') and 'unwarpped' in i)]\n",
    "    \n",
    "    for xtc in  npt_xtc:\n",
    "        for atom_name in ['name POT','name CLA']:\n",
    "            MSD_result = MSD(directory+npt_tpr,directory+xtc,atom_name,25000,50000)\n",
    "            np.save(directory+'results/'+xtc[0:-4]+atom_name[-3:]+'_MSD',MSD_result)"
   ]
  },
  {
   "attachments": {},
   "cell_type": "markdown",
   "id": "e640e59f",
   "metadata": {
    "heading_collapsed": true,
    "hidden": true
   },
   "source": [
    "## 计算电导率"
   ]
  },
  {
   "cell_type": "code",
   "execution_count": null,
   "id": "bd626352",
   "metadata": {
    "hidden": true
   },
   "outputs": [],
   "source": [
    "import os\n",
    "import numpy as np\n",
    "import pandas as pd\n",
    "from scipy.stats import linregress"
   ]
  },
  {
   "cell_type": "code",
   "execution_count": null,
   "id": "3d03bd18",
   "metadata": {
    "code_folding": [],
    "hidden": true
   },
   "outputs": [],
   "source": [
    "def electrical_conductivity(MSD,timestep = 0.004 ,charge = 1,temperature = 300):\n",
    "    linear_model = linregress(np.arange(len(MSD))*timestep,MSD)\n",
    "    slope = linear_model.slope\n",
    "    error = linear_model.rvalue\n",
    "    \n",
    "    diffusion_coefficient = slope * 1/6\n",
    "    FF_RT = (9.6485*10**4)**2/8.314/temperature# F Fareday's constant R gas constant T absolute temperature\n",
    "    \n",
    "    conductivity = (charge**2)*(diffusion_coefficient/100*10**(-9))*FF_RT\n",
    "    \n",
    "    return conductivity"
   ]
  },
  {
   "cell_type": "code",
   "execution_count": null,
   "id": "8a4b701b",
   "metadata": {
    "hidden": true
   },
   "outputs": [],
   "source": [
    "files_dirs = ['3.5nm/','4.4nm/','5.6nm/']\n",
    "EC_all = []\n",
    "for directory in files_dirs:\n",
    "    EC = []\n",
    "    files = os.listdir(directory+'results/')\n",
    "    files.sort()\n",
    "    \n",
    "    for npy in  files:\n",
    "        MSD = np.load(directory+'results/'+npy)\n",
    "        Ec = electrical_conductivity(MSD)\n",
    "        EC.append(Ec)\n",
    "    EC_all.append(EC)"
   ]
  },
  {
   "cell_type": "code",
   "execution_count": null,
   "id": "296a9ab1",
   "metadata": {
    "hidden": true
   },
   "outputs": [],
   "source": [
    "EC = pd.DataFrame(EC_all).T\n",
    "EC.columns = ['3.5nm','4.4nm','5.6nm']\n",
    "EC.to_csv('results.csv',index = False)"
   ]
  },
  {
   "attachments": {},
   "cell_type": "markdown",
   "id": "0761d973",
   "metadata": {},
   "source": [
    "# 绘图和分析"
   ]
  },
  {
   "attachments": {},
   "cell_type": "markdown",
   "id": "c719326f",
   "metadata": {
    "heading_collapsed": true
   },
   "source": [
    "## MSD"
   ]
  },
  {
   "cell_type": "code",
   "execution_count": null,
   "id": "a70c67db",
   "metadata": {
    "hidden": true
   },
   "outputs": [],
   "source": [
    "import os\n",
    "import numpy as np\n",
    "import pandas as pd\n",
    "import matplotlib.pyplot as plt"
   ]
  },
  {
   "cell_type": "code",
   "execution_count": null,
   "id": "7681339e",
   "metadata": {
    "code_folding": [
     0,
     18
    ],
    "hidden": true
   },
   "outputs": [],
   "source": [
    "def plot_ax():\n",
    "\n",
    "    fig, ax = plt.subplots(constrained_layout=True, figsize=(12 / 2.54, 9 / 2.54))\n",
    "    ax.set_xlim(0, 100)\n",
    "    ax.set_ylim(0, 2200)\n",
    "    ax.tick_params(width=1)\n",
    "    \n",
    "    ax.set_xlabel('$\\mathrm{time\\ (ns)}$')\n",
    "    ax.set_ylabel('$\\mathrm{MSD\\ (nm)}^2$')\n",
    "    ax.set_xticks(np.arange(0,101,20))\n",
    "    ax.set_xticklabels(ax.get_xticks())\n",
    "    ax.spines['left'].set_linewidth(1)\n",
    "    ax.spines['right'].set_linewidth(1)\n",
    "    ax.spines['bottom'].set_linewidth(1)\n",
    "    ax.spines['top'].set_linewidth(1)\n",
    "    \n",
    "    return ax\n",
    "\n",
    "def plot_MSD(box):\n",
    "    ax =  plot_ax()\n",
    "    files = os.listdir(box+'results/')\n",
    "    files.sort()\n",
    "    for npy in files:\n",
    "        data = np.load(box+'results/'+npy)/100\n",
    "        ls = '-' if 'POT' in npy else '--'\n",
    "        ax.plot(np.linspace(0,100,len(data)),data,ls = ls,c = color,lw =1)    \n",
    "    ax.legend(['$\\mathrm{Cl}^-$','$\\mathrm{K}^+$'])\n",
    "    \n",
    "    return ax"
   ]
  },
  {
   "cell_type": "code",
   "execution_count": null,
   "id": "ccec268a",
   "metadata": {
    "hidden": true
   },
   "outputs": [],
   "source": [
    "box = ['3.5','4.4','5.6']\n",
    "colors = ['#4077d7','#56ab91','#c23b2e']\n",
    "for i in box:\n",
    "    color =colors[box.index(i)]\n",
    "    ax = plot_MSD(i+'nm/')\n",
    "    ax.set_title('box: '+i+' nm')\n",
    "    plt.savefig('figures/'+i+'MSD.svg')"
   ]
  },
  {
   "attachments": {},
   "cell_type": "markdown",
   "id": "de52d80b",
   "metadata": {
    "heading_collapsed": true
   },
   "source": [
    "## 电导率"
   ]
  },
  {
   "cell_type": "code",
   "execution_count": null,
   "id": "da3a3567",
   "metadata": {
    "hidden": true
   },
   "outputs": [],
   "source": [
    "import os\n",
    "import numpy as np\n",
    "import pandas as pd\n",
    "import matplotlib.pyplot as plt"
   ]
  },
  {
   "cell_type": "code",
   "execution_count": null,
   "id": "59785aa5",
   "metadata": {
    "code_folding": [],
    "hidden": true
   },
   "outputs": [],
   "source": [
    "def plot_ax():\n",
    "\n",
    "    fig, ax = plt.subplots(constrained_layout=True, figsize=(12 / 2.54, 9 / 2.54))\n",
    "    ax.set_xlim(0,3)\n",
    "    ax.set_ylim(0,25)\n",
    "    ax.tick_params(width=1)\n",
    "    \n",
    "    ax.set_xlabel('$\\mathrm{box\\ size}$')\n",
    "    ax.set_ylabel('$\\mathrm{EC\\ (S/m)}$')\n",
    "    ax.spines['left'].set_linewidth(1)\n",
    "    ax.spines['right'].set_linewidth(1)\n",
    "    ax.spines['bottom'].set_linewidth(1)\n",
    "    ax.spines['top'].set_linewidth(1)\n",
    "    \n",
    "    return ax"
   ]
  },
  {
   "cell_type": "code",
   "execution_count": null,
   "id": "d9251486",
   "metadata": {
    "hidden": true
   },
   "outputs": [],
   "source": [
    "# 创建原始DataFrame\n",
    "data = pd.read_csv('results.csv')\n",
    "# 将两个相邻的行相加，并生成新的DataFrame\n",
    "EC = data.groupby(data.index // 2).sum()"
   ]
  },
  {
   "cell_type": "code",
   "execution_count": null,
   "id": "18cd4da8",
   "metadata": {
    "hidden": true
   },
   "outputs": [],
   "source": [
    "ax = plot_ax()\n",
    "box = ['3.5nm','4.4nm','5.6nm']\n",
    "colors = ['#4077d7','#56ab91','#c23b2e']\n",
    "for i in range(len(box)):\n",
    "    if i == 0:\n",
    "        data = EC[box[i]]*1000\n",
    "    else:\n",
    "        data = EC[box[i]][0:4]*1000\n",
    "    mean = data.mean()\n",
    "    std  = data.std(ddof=1)\n",
    "    error_params=dict(elinewidth=1,capthick = 1,capsize=5) \n",
    "    \n",
    "    ax.bar([0.5+i],mean,yerr=std,error_kw=error_params,width = 0.2,color=colors[i],linewidth = 1,edgecolor='k')\n",
    "    \n",
    "    x = i+np.random.normal(0.5,0.05,len(data))\n",
    "    ax.scatter(x,data,s = 15,marker='v',c = colors[i],edgecolors='k',linewidths = 0.5,zorder = 2)\n",
    "\n",
    "ax.set_xticks([0.5,1.5,2.5], ['3.5 nm','4.4 nm','5.6 nm'])\n",
    "ax.set_title('Conductivity of different systems')\n",
    "\n",
    "plt.savefig('figures/conductivity.svg')"
   ]
  },
  {
   "attachments": {},
   "cell_type": "markdown",
   "id": "10cc8641",
   "metadata": {},
   "source": [
    "## 体系大小的影响"
   ]
  },
  {
   "cell_type": "code",
   "execution_count": 1,
   "id": "baa0eb17",
   "metadata": {},
   "outputs": [],
   "source": [
    "import pandas as pd\n",
    "from scipy import stats"
   ]
  },
  {
   "cell_type": "code",
   "execution_count": 2,
   "id": "e02b4a28",
   "metadata": {},
   "outputs": [
    {
     "name": "stdout",
     "output_type": "stream",
     "text": [
      "Ttest_indResult(statistic=0.7956750145110278, pvalue=0.45870931659657) \n",
      " Ttest_indResult(statistic=-0.09604729360706078, pvalue=0.9256513491366611) \n",
      " Ttest_indResult(statistic=-0.9831616216985603, pvalue=0.3910262392043696)\n"
     ]
    }
   ],
   "source": [
    "data = pd.read_csv('results.csv')\n",
    "# 将两个相邻的行相加，并生成新的DataFrame\n",
    "EC = data.groupby(data.index // 2).sum()\n",
    "\n",
    "onetwo   = stats.ttest_ind(EC['3.5nm'],EC['4.4nm'][0:4],equal_var=False,trim=0)\n",
    "onethree = stats.ttest_ind(EC['3.5nm'],EC['5.6nm'][0:4],equal_var=False,trim=0)\n",
    "twothree = stats.ttest_ind(EC['4.4nm'][0:4],EC['5.6nm'][0:4],equal_var=False,trim=0)\n",
    "\n",
    "print(onetwo,'\\n',onethree,'\\n',twothree)"
   ]
  },
  {
   "cell_type": "code",
   "execution_count": null,
   "id": "c7f4c8f0",
   "metadata": {},
   "outputs": [],
   "source": []
  }
 ],
 "metadata": {
  "hide_input": false,
  "kernelspec": {
   "display_name": "Python 3 (ipykernel)",
   "language": "python",
   "name": "python3"
  },
  "language_info": {
   "codemirror_mode": {
    "name": "ipython",
    "version": 3
   },
   "file_extension": ".py",
   "mimetype": "text/x-python",
   "name": "python",
   "nbconvert_exporter": "python",
   "pygments_lexer": "ipython3",
   "version": "3.9.16"
  },
  "toc": {
   "base_numbering": 1,
   "nav_menu": {},
   "number_sections": true,
   "sideBar": true,
   "skip_h1_title": false,
   "title_cell": "Table of Contents",
   "title_sidebar": "Contents",
   "toc_cell": false,
   "toc_position": {},
   "toc_section_display": true,
   "toc_window_display": false
  },
  "varInspector": {
   "cols": {
    "lenName": 16,
    "lenType": 16,
    "lenVar": 40
   },
   "kernels_config": {
    "python": {
     "delete_cmd_postfix": "",
     "delete_cmd_prefix": "del ",
     "library": "var_list.py",
     "varRefreshCmd": "print(var_dic_list())"
    },
    "r": {
     "delete_cmd_postfix": ") ",
     "delete_cmd_prefix": "rm(",
     "library": "var_list.r",
     "varRefreshCmd": "cat(var_dic_list()) "
    }
   },
   "types_to_exclude": [
    "module",
    "function",
    "builtin_function_or_method",
    "instance",
    "_Feature"
   ],
   "window_display": false
  }
 },
 "nbformat": 4,
 "nbformat_minor": 5
}
